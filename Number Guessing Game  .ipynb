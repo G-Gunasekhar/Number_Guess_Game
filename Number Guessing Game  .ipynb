{
 "cells": [
  {
   "cell_type": "code",
   "execution_count": 7,
   "metadata": {},
   "outputs": [
    {
     "name": "stdout",
     "output_type": "stream",
     "text": [
      "Enter the Guess number50\n",
      "Its Low, Guess Higher\n",
      "Enter the Guess number60\n",
      "Its High, guess Lower\n",
      "Enter the Guess number55\n",
      "Its High, guess Lower\n",
      "Enter the Guess number52\n",
      "Its Correct, You Won!\n"
     ]
    }
   ],
   "source": [
    "# Import the random module for random number \n",
    "import random\n",
    "number = random.randint(1,100)\n",
    "guess = 0\n",
    "\n",
    "# take while loop untill its ccorrect \n",
    "\n",
    "while guess != number:\n",
    "    \n",
    "# Ask user to guess the number\n",
    "\n",
    "    guess = int(input(\"Enter the Guess number\"))\n",
    "    if guess < number :\n",
    "        print(\"Its Low, Guess Higher\")\n",
    "    elif guess > number :\n",
    "        print(\"Its High, guess Lower\")\n",
    "    else:\n",
    "        print(\"Its Correct, You Won!\")\n",
    "        "
   ]
  },
  {
   "cell_type": "code",
   "execution_count": null,
   "metadata": {},
   "outputs": [],
   "source": []
  }
 ],
 "metadata": {
  "kernelspec": {
   "display_name": "Python 3",
   "language": "python",
   "name": "python3"
  },
  "language_info": {
   "codemirror_mode": {
    "name": "ipython",
    "version": 3
   },
   "file_extension": ".py",
   "mimetype": "text/x-python",
   "name": "python",
   "nbconvert_exporter": "python",
   "pygments_lexer": "ipython3",
   "version": "3.8.5"
  }
 },
 "nbformat": 4,
 "nbformat_minor": 4
}
